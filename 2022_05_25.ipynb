{
  "nbformat": 4,
  "nbformat_minor": 0,
  "metadata": {
    "colab": {
      "name": "2022_05_25.ipynb",
      "provenance": [],
      "collapsed_sections": [
        "YrQ-jf0RZgWa"
      ]
    },
    "kernelspec": {
      "name": "python3",
      "display_name": "Python 3"
    },
    "language_info": {
      "name": "python"
    },
    "accelerator": "GPU"
  },
  "cells": [
    {
      "cell_type": "code",
      "execution_count": 1,
      "metadata": {
        "id": "SsZ63tihjHJt",
        "colab": {
          "base_uri": "https://localhost:8080/"
        },
        "outputId": "46b859d1-9570-419f-c4c5-77fb9ddc2daa"
      },
      "outputs": [
        {
          "output_type": "stream",
          "name": "stdout",
          "text": [
            "Looking in indexes: https://pypi.org/simple, https://us-python.pkg.dev/colab-wheels/public/simple/\n",
            "Requirement already satisfied: pycuda in /usr/local/lib/python3.7/dist-packages (2021.1)\n",
            "Requirement already satisfied: appdirs>=1.4.0 in /usr/local/lib/python3.7/dist-packages (from pycuda) (1.4.4)\n",
            "Requirement already satisfied: mako in /usr/local/lib/python3.7/dist-packages (from pycuda) (1.2.0)\n",
            "Requirement already satisfied: pytools>=2011.2 in /usr/local/lib/python3.7/dist-packages (from pycuda) (2022.1.9)\n",
            "Requirement already satisfied: platformdirs>=2.2.0 in /usr/local/lib/python3.7/dist-packages (from pytools>=2011.2->pycuda) (2.5.2)\n",
            "Requirement already satisfied: typing-extensions>=4.0 in /usr/local/lib/python3.7/dist-packages (from pytools>=2011.2->pycuda) (4.2.0)\n",
            "Requirement already satisfied: importlib-metadata in /usr/local/lib/python3.7/dist-packages (from mako->pycuda) (4.11.3)\n",
            "Requirement already satisfied: MarkupSafe>=0.9.2 in /usr/local/lib/python3.7/dist-packages (from mako->pycuda) (2.0.1)\n",
            "Requirement already satisfied: zipp>=0.5 in /usr/local/lib/python3.7/dist-packages (from importlib-metadata->mako->pycuda) (3.8.0)\n"
          ]
        }
      ],
      "source": [
        "!pip install pycuda"
      ]
    },
    {
      "cell_type": "code",
      "source": [
        "import pycuda.autoinit\n",
        "import pycuda.driver as drv\n",
        "from pycuda import gpuarray\n",
        "from pycuda.compiler import SourceModule\n",
        "import numpy as np\n",
        "import matplotlib.pyplot as plt\n",
        "from time import time"
      ],
      "metadata": {
        "id": "MkoGOgAhjcdE"
      },
      "execution_count": 2,
      "outputs": []
    },
    {
      "cell_type": "markdown",
      "source": [
        "# Basic tool"
      ],
      "metadata": {
        "id": "1bN7gETcEE-I"
      }
    },
    {
      "cell_type": "code",
      "source": [
        "calculate_ker = SourceModule(\n",
        "    \"\"\"\n",
        "    #define _X (threadIdx.x + blockIdx.x * blockDim.x * blockDim.y)\n",
        "\n",
        "    #define _WIDTH (blockDim.x)\n",
        "\n",
        "    #define _INDEX1(x,y) (x * _WIDTH + y)\n",
        "\n",
        "    // A: matrix, b: vector, out: vector\n",
        "    __global__ void mat_vec_ker(float *out, float *A, float *b, float *theta)\n",
        "    {\n",
        "        int x = _X;\n",
        "\n",
        "        for (int j = 0; j < _WIDTH; j++)\n",
        "        {\n",
        "            // out need to be initialized\n",
        "            out[x] += A[_INDEX1(x,j)] * theta[j];\n",
        "        }\n",
        "\n",
        "        __syncthreads();\n",
        "        out[x] -= b[x];\n",
        "        __syncthreads();\n",
        "    }\n",
        "    \"\"\"\n",
        ")\n",
        "\n",
        "gradient_ker = SourceModule(\n",
        "    \"\"\"\n",
        "    #define _X (threadIdx.x)\n",
        "\n",
        "    #define _WIDTH (blockDim.x)\n",
        "\n",
        "    __global__ void gradient_ker(float *grad, float *out, float *A, int width)\n",
        "    {\n",
        "        int x = _X;\n",
        "        int w = _WIDTH * width;\n",
        "\n",
        "        for (int k = 0; k < w; k++)\n",
        "        {\n",
        "            int index = k * _WIDTH + x;\n",
        "            grad[x] += A[index] * out[k];\n",
        "        }\n",
        "\n",
        "        __syncthreads();\n",
        "    }\n",
        "    \"\"\"\n",
        ")\n",
        "\n",
        "update_ker = SourceModule(\n",
        "    \"\"\"\n",
        "    #define _X (threadIdx.x + blockIdx.x * blockDim.x * blockDim.y)\n",
        "\n",
        "    __global__ void update_ker(float *theta_new, float *theta, float lr, float *grad)\n",
        "    {\n",
        "        int x = _X;\n",
        "\n",
        "        theta_new[x] = theta[x] - grad[x] * lr;\n",
        "\n",
        "        __syncthreads();\n",
        "    }\n",
        "    \"\"\"\n",
        ")\n",
        "\n",
        "multiply = calculate_ker.get_function(\"mat_vec_ker\")\n",
        "gradient = gradient_ker.get_function(\"gradient_ker\")\n",
        "update = update_ker.get_function(\"update_ker\")"
      ],
      "metadata": {
        "id": "TjqLP4HVjjan"
      },
      "execution_count": null,
      "outputs": []
    },
    {
      "cell_type": "code",
      "source": [
        "# set matrix size\n",
        "# BD: blockDim, GD: gridDim   \n",
        "BD = 32 * 32\n",
        "GD_x = 2\n",
        "\n",
        "lr = np.float32(1e-6)\n",
        "\n",
        "A = np.float32(np.random.randn(BD*GD_x,BD))\n",
        "b = np.float32(np.random.randn(BD*GD_x))\n",
        "theta = np.float32(np.random.randn(BD))\n",
        "out_cpu = np.float32(np.zeros((BD,GD_x+1)))\n",
        "\n",
        "A_gpu = gpuarray.to_gpu(A.reshape(BD*BD*GD_x))\n",
        "b_gpu = gpuarray.to_gpu(b)\n",
        "theta_gpu = gpuarray.to_gpu(theta)\n",
        "theta_new_gpu = gpuarray.to_gpu(theta)\n",
        "out_gpu = gpuarray.empty_like(b_gpu)\n",
        "grad_gpu = gpuarray.empty_like(theta_gpu)\n",
        "init_gpu1 = gpuarray.empty_like(theta_gpu)\n",
        "init_gpu2 = gpuarray.empty_like(b_gpu)\n",
        "\n",
        "# initialize\n",
        "out_gpu[:] = init_gpu2\n",
        "grad_gpu[:] = init_gpu1\n",
        "theta_gpu[:] = theta_new_gpu[:]\n",
        "theta_new_gpu[:] = init_gpu1\n",
        "\n",
        "# in GPU\n",
        "multiply(out_gpu, A_gpu, b_gpu, theta_gpu, block=(BD,1,1), grid=(GD_x,1,1))\n",
        "gradient(grad_gpu, out_gpu, A_gpu, np.int32(GD_x), block=(BD,1,1), grid=(GD_x,1,1))\n",
        "update(theta_new_gpu, theta_gpu, lr, grad_gpu, block=(BD,1,1), grid=(1,1,1))\n",
        "\n",
        "# result_gpu = out_gpu.get()\n",
        "# result_gpu = grad_gpu.get()\n",
        "result_gpu = theta_new_gpu.get()\n",
        "\n",
        "# in CPU\n",
        "# result_cpu = np.dot(A, theta) - b\n",
        "# result_cpu = np.dot(A.T, (np.dot(A,theta) - b))\n",
        "result_cpu = theta - np.dot(A.T, (np.dot(A, theta) - b)) * lr\n",
        "\n",
        "print(f\"Does it right?: {np.allclose(result_cpu, result_gpu, atol=1e-4)}\")\n",
        "print(f\"How about 2-Norm?: {np.linalg.norm(result_cpu - result_gpu)}\")"
      ],
      "metadata": {
        "colab": {
          "base_uri": "https://localhost:8080/"
        },
        "id": "_ekbxjVcjpFR",
        "outputId": "09539595-f37d-45e1-f330-dddcf8432ea9"
      },
      "execution_count": null,
      "outputs": [
        {
          "output_type": "stream",
          "name": "stdout",
          "text": [
            "Does it right?: True\n",
            "How about 2-Norm?: 4.1329596456307627e-07\n"
          ]
        }
      ]
    },
    {
      "cell_type": "markdown",
      "source": [
        "# VS. lstsq"
      ],
      "metadata": {
        "id": "YrQ-jf0RZgWa"
      }
    },
    {
      "cell_type": "code",
      "source": [
        "# set matrix size\n",
        "# BD: blockDim, GD: gridDim   \n",
        "BD = 32 * 32\n",
        "GD_x = 16\n",
        "\n",
        "lr = np.float32(1e-6)\n",
        "\n",
        "A = np.float32(np.random.randn(BD*GD_x,BD))\n",
        "b = np.float32(np.random.randn(BD*GD_x))\n",
        "theta = np.float32(np.random.randn(BD))\n",
        "out_cpu = np.float32(np.zeros((BD,GD_x+1)))\n",
        "\n",
        "A_gpu = gpuarray.to_gpu(A.reshape(BD*BD*GD_x))\n",
        "b_gpu = gpuarray.to_gpu(b)\n",
        "theta_gpu = gpuarray.to_gpu(theta)\n",
        "theta_new_gpu = gpuarray.to_gpu(theta)\n",
        "out_gpu = gpuarray.empty_like(b_gpu)\n",
        "grad_gpu = gpuarray.empty_like(theta_gpu)\n",
        "init_gpu1 = gpuarray.empty_like(theta_gpu)\n",
        "init_gpu2 = gpuarray.empty_like(b_gpu)\n",
        "\n",
        "# in GPU\n",
        "t1 = time()\n",
        "for i in range(2):\n",
        "    for i in range(200):\n",
        "        # initialize\n",
        "        out_gpu[:] = init_gpu2\n",
        "        grad_gpu[:] = init_gpu1\n",
        "        theta_gpu[:] = theta_new_gpu[:]\n",
        "        theta_new_gpu[:] = init_gpu1\n",
        "\n",
        "        # calculate\n",
        "        multiply(out_gpu, A_gpu, b_gpu, theta_gpu, block=(BD,1,1), grid=(GD_x,1,1))\n",
        "        gradient(grad_gpu, out_gpu, A_gpu, np.int32(GD_x), block=(BD,1,1), grid=(GD_x,1,1))\n",
        "        update(theta_new_gpu, theta_gpu, lr, grad_gpu, block=(BD,1,1), grid=(1,1,1))\n",
        "result_gpu = theta_new_gpu.get()\n",
        "t2 = time()\n",
        "run_GPU = t2 - t1\n",
        "error_gpu = np.linalg.norm(np.dot(A,result_gpu) - b)\n",
        "\n",
        "# in CPU\n",
        "t1 = time()\n",
        "result_cpu = np.linalg.lstsq(A,b, rcond=None)[0]\n",
        "t2 = time()\n",
        "run_CPU = t2 - t1\n",
        "error_cpu = np.linalg.norm(np.dot(A,result_cpu) - b)\n",
        "\n",
        "print(f\"It took {run_GPU} seconds in GPU\")\n",
        "print(f\"error in GPU: {error_gpu}\")\n",
        "print(f\"It took {run_CPU} seconds in CPU\")\n",
        "print(f\"error in CPU: {error_cpu}\")"
      ],
      "metadata": {
        "colab": {
          "base_uri": "https://localhost:8080/"
        },
        "id": "Z_qquD4BubYC",
        "outputId": "d3209c3f-8934-4678-dafc-b2a8f98a9068"
      },
      "execution_count": null,
      "outputs": [
        {
          "output_type": "stream",
          "name": "stdout",
          "text": [
            "It took 2.7963497638702393 seconds in GPU\n",
            "error in GPU: 126.12738800048828\n",
            "It took 4.393797159194946 seconds in CPU\n",
            "error in CPU: 124.28792572021484\n"
          ]
        }
      ]
    },
    {
      "cell_type": "code",
      "source": [
        "class LeastSquare:\n",
        "    def __init__(self, A, b, lr=1e-6, epoches=2, iterations=200, GD_x=16):\n",
        "        # memorize data\n",
        "        self.A = A\n",
        "        self.b = b\n",
        "        self.lr = np.float32(lr)\n",
        "        self.epoches = epoches\n",
        "        self.iterations = iterations\n",
        "        \n",
        "        # about data size\n",
        "        self.BD = 32 * 32\n",
        "        self.GD_x = GD_x\n",
        "\n",
        "        # initialize data\n",
        "        # data\n",
        "        self.A_gpu = gpuarray.to_gpu(self.A.reshape(self.BD*self.BD*self.GD_x))\n",
        "        self.b_gpu = gpuarray.to_gpu(self.b)\n",
        "        # parameter\n",
        "        theta = np.float32(np.random.randn(self.A.shape[1]))\n",
        "        self.theta_gpu = gpuarray.to_gpu(theta)\n",
        "        self.theta_new_gpu = gpuarray.to_gpu(theta)\n",
        "        # what..?\n",
        "        self.out_gpu = gpuarray.empty_like(self.b_gpu)\n",
        "        self.init_gpu2 = gpuarray.empty_like(self.b_gpu)\n",
        "        # gradient\n",
        "        self.grad_gpu = gpuarray.empty_like(self.theta_gpu)\n",
        "        self.init_gpu1 = gpuarray.empty_like(self.theta_gpu)\n",
        "\n",
        "        # object\n",
        "        self.opt_theta = None\n",
        "\n",
        "    def optimize(self):\n",
        "        for epoch in range(self.epoches):\n",
        "            for iteration in range(self.iterations):\n",
        "                # initialize\n",
        "                self.out_gpu[:] = self.init_gpu2[:]\n",
        "                self.grad_gpu[:] = self.init_gpu1[:]\n",
        "                self.theta_gpu[:] = self.theta_new_gpu[:]\n",
        "                self.theta_new_gpu[:] = self.init_gpu1[:]\n",
        "\n",
        "                # calculate\n",
        "                multiply(self.out_gpu, self.A_gpu, self.b_gpu, self.theta_gpu, block=(self.BD,1,1), grid=(self.GD_x,1,1))\n",
        "                gradient(self.grad_gpu, self.out_gpu, self.A_gpu, np.int32(self.GD_x), block=(self.BD,1,1), grid=(self.GD_x,1,1))\n",
        "                update(self.theta_new_gpu, self.theta_gpu, self.lr, self.grad_gpu, block=(BD,1,1), grid=(1,1,1))\n",
        "        # ending\n",
        "        self.opt_theta = theta_new_gpu.get()\n",
        "\n",
        "        return self.opt_theta\n",
        "\n",
        "    def lstsq(self):\n",
        "        t1 = time()\n",
        "        opt_theta = self.optimize()\n",
        "        t2 = time()\n",
        "\n",
        "        run_time = t2 - t1\n",
        "\n",
        "        error = np.linalg.norm(np.dot(self.A, opt_theta) - self.b)\n",
        "\n",
        "        return error, run_time"
      ],
      "metadata": {
        "id": "vL2zos_6ybx4"
      },
      "execution_count": null,
      "outputs": []
    },
    {
      "cell_type": "code",
      "source": [
        "def stop_watch(n):\n",
        "    BD = 32 * 32\n",
        "    GD_x = n\n",
        "\n",
        "    A = np.float32(np.random.randn(BD*GD_x,BD))\n",
        "    b = np.float32(np.random.randn(BD*GD_x))\n",
        "\n",
        "    LSTSQ = LeastSquare(A, b, GD_x=GD_x)\n",
        "\n",
        "    # in GPU\n",
        "    error_gpu, gpu_time = LSTSQ.lstsq()\n",
        "    \n",
        "    # in CPU\n",
        "    t1 = time()\n",
        "    result_cpu = np.linalg.lstsq(A,b, rcond=None)[0]\n",
        "    t2 = time()\n",
        "\n",
        "    error_cpu = np.linalg.norm(np.dot(A, result_cpu) - b)\n",
        "\n",
        "    cpu_time = t2 - t1\n",
        "    \n",
        "    return error_gpu, error_cpu, gpu_time, cpu_time"
      ],
      "metadata": {
        "id": "dJ51LWpGRth4"
      },
      "execution_count": null,
      "outputs": []
    },
    {
      "cell_type": "code",
      "source": [
        "N = 10\n",
        "\n",
        "result = np.zeros((4,N))\n",
        "\n",
        "for i in range(N):\n",
        "    result[:,i] = stop_watch(i+7)"
      ],
      "metadata": {
        "id": "koDRDRjqTCwQ"
      },
      "execution_count": null,
      "outputs": []
    },
    {
      "cell_type": "code",
      "source": [
        "plt.figure(figsize=(17,8))\n",
        "\n",
        "plt.subplot(121)\n",
        "plt.plot(result[0,:], label=\"error_gpu\")\n",
        "plt.plot(result[1,:], label=\"error_cpu\")\n",
        "plt.xlabel(\"data size: $(k+7)*1024^2$\")\n",
        "plt.title(\"error in CPU and GPU\")\n",
        "plt.legend()\n",
        "\n",
        "plt.subplot(122)\n",
        "plt.plot(result[2,:], label=\"gpu_time\")\n",
        "plt.plot(result[3,:], label=\"cpu_time\")\n",
        "plt.xlabel(\"data size: $(k+7)*1024^2$\")\n",
        "plt.ylabel(\"run time (s)\")\n",
        "plt.title(\"run time in CPU and GPU\")\n",
        "plt.legend()\n",
        "\n",
        "plt.show()"
      ],
      "metadata": {
        "colab": {
          "base_uri": "https://localhost:8080/",
          "height": 518
        },
        "id": "Na5N32UiV-8Q",
        "outputId": "5796317c-28e6-46d7-e9a3-573552f195af"
      },
      "execution_count": null,
      "outputs": [
        {
          "output_type": "display_data",
          "data": {
            "text/plain": [
              "<Figure size 1224x576 with 2 Axes>"
            ],
            "image/png": "[encoded data removed]"
          },
          "metadata": {
            "needs_background": "light"
          }
        }
      ]
    },
    {
      "cell_type": "markdown",
      "source": [
        "# DO faster!"
      ],
      "metadata": {
        "id": "prNcfpfVdoAP"
      }
    },
    {
      "cell_type": "code",
      "source": [
        "calculate_ker = SourceModule(\n",
        "    \"\"\"\n",
        "    #define _X (threadIdx.x + blockIdx.x * blockDim.x * blockDim.y)\n",
        "\n",
        "    #define _WIDTH (blockDim.x)\n",
        "\n",
        "    #define _INDEX1(x,y) (x * _WIDTH + y)\n",
        "\n",
        "    // A: matrix, b: vector, out: vector\n",
        "    __global__ void mat_vec_ker(float *out, float *A, float *b, float *theta)\n",
        "    {\n",
        "        int x = _X;\n",
        "\n",
        "        for (int j = 0; j < _WIDTH; j++)\n",
        "        {\n",
        "            // out need to be initialized\n",
        "            out[x] += A[_INDEX1(x,j)] * theta[j];\n",
        "        }\n",
        "\n",
        "        __syncthreads();\n",
        "        out[x] -= b[x];\n",
        "        __syncthreads();\n",
        "    }\n",
        "    \"\"\"\n",
        ")\n",
        "\n",
        "gradient_ker = SourceModule(\n",
        "    \"\"\"\n",
        "    #define _X (threadIdx.x)\n",
        "    #define _B (blockIdx.x)\n",
        "    #define _G (gridDim.x)\n",
        "\n",
        "    #define _WIDTH (blockDim.x)\n",
        "\n",
        "    // grad_jerk: [BD,n], n = gridDim.x\n",
        "    __global__ void gradient_ker(float *grad_jerk, float *out, float *A, int width)\n",
        "    {\n",
        "        int x = _X;\n",
        "        int index_g = x * _G + _B;\n",
        "        int index_a;\n",
        "        int index_o;\n",
        "\n",
        "        for (int k = 0; k < _WIDTH; k++)\n",
        "        {\n",
        "            index_a = x + k * _WIDTH + _B * _WIDTH * _WIDTH;\n",
        "            index_o = k + _B * _WIDTH;\n",
        "\n",
        "            grad_jerk[index_g] += A[index_a] * out[index_o];\n",
        "        }\n",
        "\n",
        "        __syncthreads();\n",
        "    }\n",
        "\n",
        "    __global__ void finish_ker(float *grad, float *grad_jerk)\n",
        "    {\n",
        "        int x = _X;\n",
        "\n",
        "        for (int k = 0; k < _G; k++)\n",
        "        {\n",
        "            int index = x * _G + k;\n",
        "            grad[x] += grad_jerk[index];\n",
        "        }\n",
        "        __syncthreads();\n",
        "    }\n",
        "    \"\"\"\n",
        ")\n",
        "\n",
        "update_ker = SourceModule(\n",
        "    \"\"\"\n",
        "    #define _X (threadIdx.x + blockIdx.x * blockDim.x * blockDim.y)\n",
        "\n",
        "    __global__ void update_ker(float *theta_new, float *theta, float lr, float *grad)\n",
        "    {\n",
        "        int x = _X;\n",
        "\n",
        "        theta_new[x] = theta[x] - grad[x] * lr;\n",
        "\n",
        "        __syncthreads();\n",
        "    }\n",
        "    \"\"\"\n",
        ")\n",
        "\n",
        "multiply = calculate_ker.get_function(\"mat_vec_ker\")\n",
        "gradient = gradient_ker.get_function(\"gradient_ker\")\n",
        "finish = gradient_ker.get_function(\"finish_ker\")\n",
        "update = update_ker.get_function(\"update_ker\")"
      ],
      "metadata": {
        "id": "KgyCKb89dokD"
      },
      "execution_count": 3,
      "outputs": []
    },
    {
      "cell_type": "code",
      "source": [
        "# set matrix size\n",
        "# BD: blockDim, GD: gridDim   \n",
        "BD = 32 * 32\n",
        "GD_x = 2\n",
        "\n",
        "lr = np.float32(1e-6)\n",
        "\n",
        "A = np.float32(np.random.randn(BD*GD_x,BD))\n",
        "b = np.float32(np.random.randn(BD*GD_x))\n",
        "theta = np.float32(np.random.randn(BD))\n",
        "grad_jerk = np.float32(np.zeros((BD,GD_x)))\n",
        "\n",
        "A_gpu = gpuarray.to_gpu(A.reshape(BD*BD*GD_x))\n",
        "b_gpu = gpuarray.to_gpu(b)\n",
        "theta_gpu = gpuarray.to_gpu(theta)\n",
        "theta_new_gpu = gpuarray.to_gpu(theta)\n",
        "out_gpu = gpuarray.empty_like(b_gpu)\n",
        "grad_jerk_gpu = gpuarray.to_gpu(grad_jerk.reshape(BD*GD_x))\n",
        "grad_gpu = gpuarray.empty_like(theta_gpu)\n",
        "init_gpu1 = gpuarray.empty_like(theta_gpu)\n",
        "init_gpu2 = gpuarray.empty_like(b_gpu)\n",
        "init_gpu3 = gpuarray.empty_like(grad_jerk_gpu)\n",
        "\n",
        "# initialize\n",
        "grad_jerk_gpu[:] = init_gpu3\n",
        "out_gpu[:] = init_gpu2\n",
        "grad_gpu[:] = init_gpu1\n",
        "theta_gpu[:] = theta_new_gpu[:]\n",
        "theta_new_gpu[:] = init_gpu1\n",
        "\n",
        "# in GPU\n",
        "multiply(out_gpu, A_gpu, b_gpu, theta_gpu, block=(BD,1,1), grid=(GD_x,1,1))\n",
        "gradient(grad_jerk_gpu, out_gpu, A_gpu, np.int32(GD_x), block=(BD,1,1), grid=(GD_x,1,1))\n",
        "finish(grad_gpu, grad_jerk_gpu, block=(BD,1,1), grid=(GD_x,1,1))\n",
        "update(theta_new_gpu, theta_gpu, lr, grad_gpu, block=(BD,1,1), grid=(1,1,1))\n",
        "\n",
        "# result_gpu = out_gpu.get()\n",
        "# result_gpu = grad_gpu.get()\n",
        "result_gpu = theta_new_gpu.get()\n",
        "\n",
        "# in CPU\n",
        "# result_cpu = np.dot(A, theta) - b\n",
        "# result_cpu = np.dot(A.T, (np.dot(A,theta) - b))\n",
        "result_cpu = theta - np.dot(A.T, (np.dot(A, theta) - b)) * lr\n",
        "\n",
        "print(f\"Does it right?: {np.allclose(result_cpu, result_gpu)}\")\n",
        "print(f\"How about 2-Norm?: {np.linalg.norm(result_cpu - result_gpu)}\")"
      ],
      "metadata": {
        "colab": {
          "base_uri": "https://localhost:8080/"
        },
        "id": "kbn2KKightPc",
        "outputId": "a76820f7-5bae-49a6-f79a-efe9d89acd41"
      },
      "execution_count": 4,
      "outputs": [
        {
          "output_type": "stream",
          "name": "stdout",
          "text": [
            "Does it right?: True\n",
            "How about 2-Norm?: 3.267430201958632e-07\n"
          ]
        }
      ]
    },
    {
      "cell_type": "code",
      "source": [
        "# set matrix size\n",
        "# BD: blockDim, GD: gridDim   \n",
        "BD = 32 * 32\n",
        "GD_x = 16\n",
        "\n",
        "lr = np.float32(1e-6)\n",
        "\n",
        "A = np.float32(np.random.randn(BD*GD_x,BD))\n",
        "b = np.float32(np.random.randn(BD*GD_x))\n",
        "theta = np.float32(np.random.randn(BD))\n",
        "grad_jerk = np.float32(np.zeros((BD,GD_x)))\n",
        "\n",
        "A_gpu = gpuarray.to_gpu(A.reshape(BD*BD*GD_x))\n",
        "b_gpu = gpuarray.to_gpu(b)\n",
        "theta_gpu = gpuarray.to_gpu(theta)\n",
        "theta_new_gpu = gpuarray.to_gpu(theta)\n",
        "out_gpu = gpuarray.empty_like(b_gpu)\n",
        "grad_jerk_gpu = gpuarray.to_gpu(grad_jerk.reshape(BD*GD_x))\n",
        "grad_gpu = gpuarray.empty_like(theta_gpu)\n",
        "init_gpu1 = gpuarray.empty_like(theta_gpu)\n",
        "init_gpu2 = gpuarray.empty_like(b_gpu)\n",
        "init_gpu3 = gpuarray.empty_like(grad_jerk_gpu)\n",
        "\n",
        "# in GPU\n",
        "t1 = time()\n",
        "for i in range(2):\n",
        "    for i in range(200):\n",
        "        # initialize\n",
        "        grad_jerk_gpu[:] = init_gpu3\n",
        "        out_gpu[:] = init_gpu2\n",
        "        grad_gpu[:] = init_gpu1\n",
        "        theta_gpu[:] = theta_new_gpu[:]\n",
        "        theta_new_gpu[:] = init_gpu1\n",
        "\n",
        "        # calculate\n",
        "        multiply(out_gpu, A_gpu, b_gpu, theta_gpu, block=(BD,1,1), grid=(GD_x,1,1))\n",
        "        gradient(grad_jerk_gpu, out_gpu, A_gpu, np.int32(GD_x), block=(BD,1,1), grid=(GD_x,1,1))\n",
        "        finish(grad_gpu, grad_jerk_gpu, block=(BD,1,1), grid=(GD_x,1,1))\n",
        "        update(theta_new_gpu, theta_gpu, lr, grad_gpu, block=(BD,1,1), grid=(1,1,1))\n",
        "        \n",
        "result_gpu = theta_new_gpu.get()\n",
        "t2 = time()\n",
        "run_GPU = t2 - t1\n",
        "error_gpu = np.linalg.norm(np.dot(A,result_gpu) - b)\n",
        "\n",
        "# in CPU\n",
        "t1 = time()\n",
        "result_cpu = np.linalg.lstsq(A,b, rcond=None)[0]\n",
        "t2 = time()\n",
        "run_CPU = t2 - t1\n",
        "error_cpu = np.linalg.norm(np.dot(A,result_cpu) - b)\n",
        "\n",
        "print(f\"It took {run_GPU} seconds in GPU\")\n",
        "print(f\"error in GPU: {error_gpu}\")\n",
        "print(f\"It took {run_CPU} seconds in CPU\")\n",
        "print(f\"error in CPU: {error_cpu}\")"
      ],
      "metadata": {
        "colab": {
          "base_uri": "https://localhost:8080/"
        },
        "id": "s_GwYXLEv6ip",
        "outputId": "1832ff41-68eb-4b0c-dfa3-eaa3d7c7a448"
      },
      "execution_count": 5,
      "outputs": [
        {
          "output_type": "stream",
          "name": "stdout",
          "text": [
            "It took 1.134838581085205 seconds in GPU\n",
            "error in GPU: 124.04402160644531\n",
            "It took 2.6110005378723145 seconds in CPU\n",
            "error in CPU: 121.95877075195312\n"
          ]
        }
      ]
    },
    {
      "cell_type": "code",
      "source": [
        "class LeastSquare:\n",
        "    def __init__(self, A, b, lr=1e-6, epoches=2, iterations=200, GD_x=16):\n",
        "        # memorize data\n",
        "        self.A = np.float32(A)\n",
        "        self.b = np.float32(b)\n",
        "        self.lr = np.float32(lr)\n",
        "        self.epoches = epoches\n",
        "        self.iterations = iterations\n",
        "        \n",
        "        # about data size\n",
        "        self.BD = 32 * 32\n",
        "        self.GD_x = GD_x\n",
        "\n",
        "        # initialize data\n",
        "        # data\n",
        "        self.A_gpu = gpuarray.to_gpu(self.A.reshape(self.BD*self.BD*self.GD_x))\n",
        "        self.b_gpu = gpuarray.to_gpu(self.b)\n",
        "        # parameter\n",
        "        theta = np.float32(np.random.randn(self.A.shape[1]))\n",
        "        self.theta_gpu = gpuarray.to_gpu(theta)\n",
        "        self.theta_new_gpu = gpuarray.empty_like(self.theta_gpu)\n",
        "        # what..?\n",
        "        self.out_gpu = gpuarray.empty_like(self.b_gpu)\n",
        "        self.init_gpu1 = gpuarray.empty_like(self.out_gpu)\n",
        "        # gradient\n",
        "        grad_jerk = np.float32(np.zeros((self.BD,self.GD_x)))\n",
        "        self.grad_jerk_gpu = gpuarray.to_gpu(grad_jerk.reshape(self.BD*self.GD_x))\n",
        "        self.grad_gpu = gpuarray.empty_like(self.theta_gpu)\n",
        "        self.init_gpu2 = gpuarray.empty_like(self.grad_gpu)\n",
        "        self.init_gpu3 = gpuarray.empty_like(self.grad_jerk_gpu)\n",
        "\n",
        "        # object\n",
        "        self.opt_theta = None\n",
        "\n",
        "    def optimize(self):\n",
        "        for epoch in range(self.epoches):\n",
        "            for iteration in range(self.iterations):\n",
        "                # initialize\n",
        "                self.grad_jerk_gpu[:] = self.init_gpu3\n",
        "                self.out_gpu[:] = self.init_gpu1\n",
        "                self.grad_gpu[:] = self.init_gpu2\n",
        "                self.theta_gpu[:] = self.theta_new_gpu[:]\n",
        "                self.theta_new_gpu[:] = self.init_gpu2\n",
        "\n",
        "                # calculate\n",
        "                multiply(self.out_gpu, self.A_gpu, self.b_gpu, self.theta_gpu, block=(self.BD,1,1), grid=(self.GD_x,1,1))\n",
        "                gradient(self.grad_jerk_gpu, self.out_gpu, self.A_gpu, np.int32(self.GD_x), block=(self.BD,1,1), grid=(self.GD_x,1,1))\n",
        "                finish(self.grad_gpu, self.grad_jerk_gpu, block=(self.BD,1,1), grid=(self.GD_x,1,1))\n",
        "                update(self.theta_new_gpu, self.theta_gpu, self.lr, self.grad_gpu, block=(self.BD,1,1), grid=(1,1,1))\n",
        "\n",
        "        # ending\n",
        "        self.opt_theta = theta_new_gpu.get()\n",
        "\n",
        "        return self.opt_theta\n",
        "\n",
        "    def lstsq(self):\n",
        "        t1 = time()\n",
        "        opt_theta = self.optimize()\n",
        "        t2 = time()\n",
        "\n",
        "        run_time = t2 - t1\n",
        "\n",
        "        error = np.linalg.norm(np.dot(self.A, opt_theta) - self.b)\n",
        "\n",
        "        return error, run_time"
      ],
      "metadata": {
        "id": "P6MK2871nxQS"
      },
      "execution_count": 6,
      "outputs": []
    },
    {
      "cell_type": "code",
      "source": [
        "def stop_watch(n):\n",
        "    BD = 32 * 32\n",
        "    GD_x = n\n",
        "\n",
        "    A = np.float32(np.random.randn(BD*GD_x,BD))\n",
        "    b = np.float32(np.random.randn(BD*GD_x))\n",
        "\n",
        "    LSTSQ = LeastSquare(A, b, GD_x=GD_x)\n",
        "\n",
        "    # in GPU\n",
        "    error_gpu, gpu_time = LSTSQ.lstsq()\n",
        "    \n",
        "    # in CPU\n",
        "    t1 = time()\n",
        "    result_cpu = np.linalg.lstsq(A,b, rcond=None)[0]\n",
        "    t2 = time()\n",
        "\n",
        "    error_cpu = np.linalg.norm(np.dot(A, result_cpu) - b)\n",
        "\n",
        "    cpu_time = t2 - t1\n",
        "    \n",
        "    return error_gpu, error_cpu, gpu_time, cpu_time"
      ],
      "metadata": {
        "id": "qAUkzrD9w6bk"
      },
      "execution_count": 7,
      "outputs": []
    },
    {
      "cell_type": "code",
      "source": [
        "N = 6\n",
        "\n",
        "result = np.zeros((5,N))\n",
        "\n",
        "for i in range(N):\n",
        "    result[0,i] = 2**i * 32 * 32\n",
        "    result[1:,i] = stop_watch(2**i)"
      ],
      "metadata": {
        "id": "UnId33n_w-N9"
      },
      "execution_count": 31,
      "outputs": []
    },
    {
      "cell_type": "code",
      "source": [
        "plt.figure(figsize=(17,8))\n",
        "\n",
        "plt.subplot(121)\n",
        "plt.plot(result[0,:], result[1,:], label=\"error_gpu\")\n",
        "plt.plot(result[0,:], result[2,:], label=\"error_cpu\")\n",
        "plt.loglog(basex=2)\n",
        "plt.xlabel(\"data size (bytes)\")\n",
        "plt.title(\"error in CPU and GPU\")\n",
        "plt.legend()\n",
        "\n",
        "plt.subplot(122)\n",
        "plt.plot(result[0,:], result[3,:], label=\"gpu_time\")\n",
        "plt.plot(result[0,:], result[4,:], label=\"cpu_time\")\n",
        "plt.xscale(\"log\", basex=2)\n",
        "plt.xlabel(\"data size (bytes)\")\n",
        "plt.ylabel(\"run time (s)\")\n",
        "plt.title(\"run time in CPU and GPU\")\n",
        "plt.legend()\n",
        "\n",
        "plt.show()"
      ],
      "metadata": {
        "colab": {
          "base_uri": "https://localhost:8080/",
          "height": 517
        },
        "id": "jyUgLUfJxCBY",
        "outputId": "3f3a37fc-dbe2-4418-8897-edd0fc905fbc"
      },
      "execution_count": 32,
      "outputs": [
        {
          "output_type": "display_data",
          "data": {
            "text/plain": [
              "<Figure size 1224x576 with 2 Axes>"
            ],
            "image/png": "[encoded data removed]"
          },
          "metadata": {
            "needs_background": "light"
          }
        }
      ]
    },
    {
      "cell_type": "markdown",
      "source": [
        "# More epoches"
      ],
      "metadata": {
        "id": "QgD3Fv2qhgS0"
      }
    },
    {
      "cell_type": "code",
      "source": [
        "def stop_watch(n):\n",
        "    BD = 32 * 32\n",
        "    GD_x = n\n",
        "\n",
        "    A = np.float32(np.random.randn(BD*GD_x,BD))\n",
        "    b = np.float32(np.random.randn(BD*GD_x))\n",
        "\n",
        "    LSTSQ = LeastSquare(A, b, epoches=3, GD_x=GD_x)\n",
        "\n",
        "    # in GPU\n",
        "    error_gpu, gpu_time = LSTSQ.lstsq()\n",
        "    \n",
        "    # in CPU\n",
        "    t1 = time()\n",
        "    result_cpu = np.linalg.lstsq(A,b, rcond=None)[0]\n",
        "    t2 = time()\n",
        "\n",
        "    error_cpu = np.linalg.norm(np.dot(A, result_cpu) - b)\n",
        "\n",
        "    cpu_time = t2 - t1\n",
        "    \n",
        "    return error_gpu, error_cpu, gpu_time, cpu_time"
      ],
      "metadata": {
        "id": "1qEeB54oB4CE"
      },
      "execution_count": null,
      "outputs": []
    },
    {
      "cell_type": "code",
      "source": [
        "N = 10\n",
        "\n",
        "result = np.zeros((4,N))\n",
        "\n",
        "for i in range(N):\n",
        "    result[:,i] = stop_watch(i+7)"
      ],
      "metadata": {
        "id": "7pbNg-lZB7p_"
      },
      "execution_count": null,
      "outputs": []
    },
    {
      "cell_type": "code",
      "source": [
        "plt.figure(figsize=(17,8))\n",
        "\n",
        "plt.subplot(121)\n",
        "plt.plot(result[0,:], label=\"error_gpu\")\n",
        "plt.plot(result[1,:], label=\"error_cpu\")\n",
        "plt.xlabel(\"data size: $(k+7)*1024^2$\")\n",
        "plt.title(\"error in CPU and GPU\")\n",
        "plt.legend()\n",
        "\n",
        "plt.subplot(122)\n",
        "plt.plot(result[2,:], label=\"gpu_time\")\n",
        "plt.plot(result[3,:], label=\"cpu_time\")\n",
        "plt.xlabel(\"data size: $(k+7)*1024^2$\")\n",
        "plt.ylabel(\"run time (s)\")\n",
        "plt.title(\"run time in CPU and GPU\")\n",
        "plt.legend()\n",
        "\n",
        "plt.show()"
      ],
      "metadata": {
        "colab": {
          "base_uri": "https://localhost:8080/",
          "height": 518
        },
        "id": "Jr6DhfKWB_OE",
        "outputId": "69cd2167-cae6-4e9b-ad5f-ec2314f88790"
      },
      "execution_count": null,
      "outputs": [
        {
          "output_type": "display_data",
          "data": {
            "text/plain": [
              "<Figure size 1224x576 with 2 Axes>"
            ],
            "image/png": "[encoded data removed]"
          },
          "metadata": {
            "needs_background": "light"
          }
        }
      ]
    }
  ]
}